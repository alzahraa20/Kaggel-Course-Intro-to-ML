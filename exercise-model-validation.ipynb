{
 "cells": [
  {
   "cell_type": "markdown",
   "id": "305a7713",
   "metadata": {
    "papermill": {
     "duration": 0.017311,
     "end_time": "2022-02-16T01:27:23.332646",
     "exception": false,
     "start_time": "2022-02-16T01:27:23.315335",
     "status": "completed"
    },
    "tags": []
   },
   "source": [
    "**This notebook is an exercise in the [Introduction to Machine Learning](https://www.kaggle.com/learn/intro-to-machine-learning) course.  You can reference the tutorial at [this link](https://www.kaggle.com/dansbecker/model-validation).**\n",
    "\n",
    "---\n"
   ]
  },
  {
   "cell_type": "markdown",
   "id": "5d7557db",
   "metadata": {
    "papermill": {
     "duration": 0.014537,
     "end_time": "2022-02-16T01:27:23.363226",
     "exception": false,
     "start_time": "2022-02-16T01:27:23.348689",
     "status": "completed"
    },
    "tags": []
   },
   "source": [
    "## Recap\n",
    "You've built a model. In this exercise you will test how good your model is.\n",
    "\n",
    "Run the cell below to set up your coding environment where the previous exercise left off."
   ]
  },
  {
   "cell_type": "code",
   "execution_count": 1,
   "id": "a63d27ff",
   "metadata": {
    "execution": {
     "iopub.execute_input": "2022-02-16T01:27:23.399489Z",
     "iopub.status.busy": "2022-02-16T01:27:23.397699Z",
     "iopub.status.idle": "2022-02-16T01:27:24.617014Z",
     "shell.execute_reply": "2022-02-16T01:27:24.615796Z",
     "shell.execute_reply.started": "2022-02-16T01:01:56.840522Z"
    },
    "papermill": {
     "duration": 1.238828,
     "end_time": "2022-02-16T01:27:24.617224",
     "exception": false,
     "start_time": "2022-02-16T01:27:23.378396",
     "status": "completed"
    },
    "tags": []
   },
   "outputs": [
    {
     "name": "stdout",
     "output_type": "stream",
     "text": [
      "First in-sample predictions: [208500. 181500. 223500. 140000. 250000.]\n",
      "Actual target values for those homes: [208500, 181500, 223500, 140000, 250000]\n",
      "Setup Complete\n"
     ]
    }
   ],
   "source": [
    "# Code you have previously used to load data\n",
    "import pandas as pd\n",
    "from sklearn.tree import DecisionTreeRegressor\n",
    "\n",
    "# Path of the file to read\n",
    "iowa_file_path = '../input/home-data-for-ml-course/train.csv'\n",
    "\n",
    "home_data = pd.read_csv(iowa_file_path)\n",
    "\n",
    "y = home_data.SalePrice\n",
    "feature_columns = ['LotArea', 'YearBuilt', '1stFlrSF', '2ndFlrSF', 'FullBath', 'BedroomAbvGr', 'TotRmsAbvGrd']\n",
    "X = home_data[feature_columns]\n",
    "\n",
    "# Specify Model\n",
    "iowa_model = DecisionTreeRegressor()\n",
    "# Fit Model\n",
    "iowa_model.fit(X, y)\n",
    "\n",
    "print(\"First in-sample predictions:\", iowa_model.predict(X.head()))\n",
    "print(\"Actual target values for those homes:\", y.head().tolist())\n",
    "\n",
    "# Set up code checking\n",
    "from learntools.core import binder\n",
    "binder.bind(globals())\n",
    "from learntools.machine_learning.ex4 import *\n",
    "print(\"Setup Complete\")"
   ]
  },
  {
   "cell_type": "markdown",
   "id": "d41a0e26",
   "metadata": {
    "papermill": {
     "duration": 0.015569,
     "end_time": "2022-02-16T01:27:24.649968",
     "exception": false,
     "start_time": "2022-02-16T01:27:24.634399",
     "status": "completed"
    },
    "tags": []
   },
   "source": [
    "# Exercises\n",
    "\n",
    "## Step 1: Split Your Data\n",
    "Use the `train_test_split` function to split up your data.\n",
    "\n",
    "Give it the argument `random_state=1` so the `check` functions know what to expect when verifying your code.\n",
    "\n",
    "Recall, your features are loaded in the DataFrame **X** and your target is loaded in **y**.\n"
   ]
  },
  {
   "cell_type": "code",
   "execution_count": 2,
   "id": "1c191405",
   "metadata": {
    "execution": {
     "iopub.execute_input": "2022-02-16T01:27:24.687946Z",
     "iopub.status.busy": "2022-02-16T01:27:24.687008Z",
     "iopub.status.idle": "2022-02-16T01:27:24.697773Z",
     "shell.execute_reply": "2022-02-16T01:27:24.698324Z",
     "shell.execute_reply.started": "2022-02-16T01:02:12.499870Z"
    },
    "papermill": {
     "duration": 0.032639,
     "end_time": "2022-02-16T01:27:24.698477",
     "exception": false,
     "start_time": "2022-02-16T01:27:24.665838",
     "status": "completed"
    },
    "tags": []
   },
   "outputs": [
    {
     "data": {
      "application/javascript": [
       "parent.postMessage({\"jupyterEvent\": \"custom.exercise_interaction\", \"data\": {\"outcomeType\": 1, \"valueTowardsCompletion\": 0.25, \"interactionType\": 1, \"questionType\": 2, \"questionId\": \"1_SplitData\", \"learnToolsVersion\": \"0.3.4\", \"failureMessage\": \"\", \"exceptionClass\": \"\", \"trace\": \"\"}}, \"*\")"
      ],
      "text/plain": [
       "<IPython.core.display.Javascript object>"
      ]
     },
     "metadata": {},
     "output_type": "display_data"
    },
    {
     "data": {
      "text/markdown": [
       "<span style=\"color:#33cc33\">Correct</span>"
      ],
      "text/plain": [
       "Correct"
      ]
     },
     "metadata": {},
     "output_type": "display_data"
    }
   ],
   "source": [
    "# Import the train_test_split function and uncomment\n",
    "from sklearn.model_selection import train_test_split\n",
    "\n",
    "# fill in and uncomment\n",
    "train_X, val_X, train_y, val_y = train_test_split(X, y, random_state=1)\n",
    "\n",
    "# Check your answer\n",
    "step_1.check()"
   ]
  },
  {
   "cell_type": "code",
   "execution_count": 3,
   "id": "0740757a",
   "metadata": {
    "execution": {
     "iopub.execute_input": "2022-02-16T01:27:24.735690Z",
     "iopub.status.busy": "2022-02-16T01:27:24.734804Z",
     "iopub.status.idle": "2022-02-16T01:27:24.737951Z",
     "shell.execute_reply": "2022-02-16T01:27:24.738562Z"
    },
    "papermill": {
     "duration": 0.023577,
     "end_time": "2022-02-16T01:27:24.738711",
     "exception": false,
     "start_time": "2022-02-16T01:27:24.715134",
     "status": "completed"
    },
    "tags": []
   },
   "outputs": [],
   "source": [
    "# The lines below will show you a hint or the solution.\n",
    "# step_1.hint() \n",
    "# step_1.solution()\n"
   ]
  },
  {
   "cell_type": "markdown",
   "id": "d7e6d679",
   "metadata": {
    "papermill": {
     "duration": 0.016587,
     "end_time": "2022-02-16T01:27:24.772173",
     "exception": false,
     "start_time": "2022-02-16T01:27:24.755586",
     "status": "completed"
    },
    "tags": []
   },
   "source": [
    "## Step 2: Specify and Fit the Model\n",
    "\n",
    "Create a `DecisionTreeRegressor` model and fit it to the relevant data.\n",
    "Set `random_state` to 1 again when creating the model."
   ]
  },
  {
   "cell_type": "code",
   "execution_count": 4,
   "id": "b16843c4",
   "metadata": {
    "execution": {
     "iopub.execute_input": "2022-02-16T01:27:24.810507Z",
     "iopub.status.busy": "2022-02-16T01:27:24.809581Z",
     "iopub.status.idle": "2022-02-16T01:27:24.835935Z",
     "shell.execute_reply": "2022-02-16T01:27:24.836386Z",
     "shell.execute_reply.started": "2022-02-16T01:05:57.781463Z"
    },
    "papermill": {
     "duration": 0.047095,
     "end_time": "2022-02-16T01:27:24.836596",
     "exception": false,
     "start_time": "2022-02-16T01:27:24.789501",
     "status": "completed"
    },
    "tags": []
   },
   "outputs": [
    {
     "name": "stdout",
     "output_type": "stream",
     "text": [
      "[186500. 184000. 130000.  92000. 164500. 220000. 335000. 144152. 215000.\n",
      " 262000.]\n",
      "[186500. 184000. 130000.  92000. 164500. 220000. 335000. 144152. 215000.\n",
      " 262000.]\n"
     ]
    },
    {
     "data": {
      "application/javascript": [
       "parent.postMessage({\"jupyterEvent\": \"custom.exercise_interaction\", \"data\": {\"outcomeType\": 1, \"valueTowardsCompletion\": 0.25, \"interactionType\": 1, \"questionType\": 2, \"questionId\": \"2_FitModelWithTrain\", \"learnToolsVersion\": \"0.3.4\", \"failureMessage\": \"\", \"exceptionClass\": \"\", \"trace\": \"\"}}, \"*\")"
      ],
      "text/plain": [
       "<IPython.core.display.Javascript object>"
      ]
     },
     "metadata": {},
     "output_type": "display_data"
    },
    {
     "data": {
      "text/markdown": [
       "<span style=\"color:#33cc33\">Correct</span>"
      ],
      "text/plain": [
       "Correct"
      ]
     },
     "metadata": {},
     "output_type": "display_data"
    }
   ],
   "source": [
    "# You imported DecisionTreeRegressor in your last exercise\n",
    "# and that code has been copied to the setup code above. So, no need to\n",
    "# import it again\n",
    "\n",
    "# Specify the model\n",
    "iowa_model = DecisionTreeRegressor(random_state=1)\n",
    "\n",
    "# Fit iowa_model with the training data.\n",
    "iowa_model.fit(train_X,train_y)\n",
    "\n",
    "# Check your answer\n",
    "step_2.check()"
   ]
  },
  {
   "cell_type": "code",
   "execution_count": 5,
   "id": "0df05d44",
   "metadata": {
    "execution": {
     "iopub.execute_input": "2022-02-16T01:27:24.877278Z",
     "iopub.status.busy": "2022-02-16T01:27:24.876710Z",
     "iopub.status.idle": "2022-02-16T01:27:24.878271Z",
     "shell.execute_reply": "2022-02-16T01:27:24.878772Z"
    },
    "papermill": {
     "duration": 0.023637,
     "end_time": "2022-02-16T01:27:24.878914",
     "exception": false,
     "start_time": "2022-02-16T01:27:24.855277",
     "status": "completed"
    },
    "tags": []
   },
   "outputs": [],
   "source": [
    "# step_2.hint()\n",
    "# step_2.solution()"
   ]
  },
  {
   "cell_type": "markdown",
   "id": "437171db",
   "metadata": {
    "papermill": {
     "duration": 0.017805,
     "end_time": "2022-02-16T01:27:24.915649",
     "exception": false,
     "start_time": "2022-02-16T01:27:24.897844",
     "status": "completed"
    },
    "tags": []
   },
   "source": [
    "## Step 3: Make Predictions with Validation data\n"
   ]
  },
  {
   "cell_type": "code",
   "execution_count": 6,
   "id": "c6c84885",
   "metadata": {
    "execution": {
     "iopub.execute_input": "2022-02-16T01:27:24.956185Z",
     "iopub.status.busy": "2022-02-16T01:27:24.955624Z",
     "iopub.status.idle": "2022-02-16T01:27:24.964170Z",
     "shell.execute_reply": "2022-02-16T01:27:24.964665Z",
     "shell.execute_reply.started": "2022-02-16T01:07:03.894500Z"
    },
    "papermill": {
     "duration": 0.029656,
     "end_time": "2022-02-16T01:27:24.964802",
     "exception": false,
     "start_time": "2022-02-16T01:27:24.935146",
     "status": "completed"
    },
    "tags": []
   },
   "outputs": [
    {
     "data": {
      "application/javascript": [
       "parent.postMessage({\"jupyterEvent\": \"custom.exercise_interaction\", \"data\": {\"outcomeType\": 1, \"valueTowardsCompletion\": 0.25, \"interactionType\": 1, \"questionType\": 2, \"questionId\": \"3_ValPreds\", \"learnToolsVersion\": \"0.3.4\", \"failureMessage\": \"\", \"exceptionClass\": \"\", \"trace\": \"\"}}, \"*\")"
      ],
      "text/plain": [
       "<IPython.core.display.Javascript object>"
      ]
     },
     "metadata": {},
     "output_type": "display_data"
    },
    {
     "data": {
      "text/markdown": [
       "<span style=\"color:#33cc33\">Correct</span>"
      ],
      "text/plain": [
       "Correct"
      ]
     },
     "metadata": {},
     "output_type": "display_data"
    }
   ],
   "source": [
    "# Predict with all validation observations\n",
    "val_predictions = iowa_model.predict(val_X)\n",
    "\n",
    "# Check your answer\n",
    "step_3.check()"
   ]
  },
  {
   "cell_type": "code",
   "execution_count": 7,
   "id": "8882a57b",
   "metadata": {
    "execution": {
     "iopub.execute_input": "2022-02-16T01:27:25.006854Z",
     "iopub.status.busy": "2022-02-16T01:27:25.006221Z",
     "iopub.status.idle": "2022-02-16T01:27:25.008658Z",
     "shell.execute_reply": "2022-02-16T01:27:25.009133Z",
     "shell.execute_reply.started": "2022-02-16T01:13:53.571746Z"
    },
    "papermill": {
     "duration": 0.024927,
     "end_time": "2022-02-16T01:27:25.009277",
     "exception": false,
     "start_time": "2022-02-16T01:27:24.984350",
     "status": "completed"
    },
    "tags": []
   },
   "outputs": [],
   "source": [
    "# step_3.hint()\n",
    "# step_3.solution()"
   ]
  },
  {
   "cell_type": "markdown",
   "id": "fe349089",
   "metadata": {
    "papermill": {
     "duration": 0.019622,
     "end_time": "2022-02-16T01:27:25.050867",
     "exception": false,
     "start_time": "2022-02-16T01:27:25.031245",
     "status": "completed"
    },
    "tags": []
   },
   "source": [
    "Inspect your predictions and actual values from validation data."
   ]
  },
  {
   "cell_type": "code",
   "execution_count": 8,
   "id": "c7e292e4",
   "metadata": {
    "execution": {
     "iopub.execute_input": "2022-02-16T01:27:25.094071Z",
     "iopub.status.busy": "2022-02-16T01:27:25.093438Z",
     "iopub.status.idle": "2022-02-16T01:27:25.098697Z",
     "shell.execute_reply": "2022-02-16T01:27:25.099337Z",
     "shell.execute_reply.started": "2022-02-16T01:24:52.622850Z"
    },
    "papermill": {
     "duration": 0.028657,
     "end_time": "2022-02-16T01:27:25.099553",
     "exception": false,
     "start_time": "2022-02-16T01:27:25.070896",
     "status": "completed"
    },
    "tags": []
   },
   "outputs": [
    {
     "name": "stdout",
     "output_type": "stream",
     "text": [
      "[186500. 184000. 130000.  92000. 164500.]\n",
      "[231500, 179500, 122000, 84500, 142000]\n"
     ]
    }
   ],
   "source": [
    "# print the top few validation predictions\n",
    "print(val_predictions[:5])\n",
    "# print the top few actual prices from validation data\n",
    "print(val_y.head().tolist())"
   ]
  },
  {
   "cell_type": "markdown",
   "id": "503bd7e7",
   "metadata": {
    "papermill": {
     "duration": 0.019736,
     "end_time": "2022-02-16T01:27:25.139878",
     "exception": false,
     "start_time": "2022-02-16T01:27:25.120142",
     "status": "completed"
    },
    "tags": []
   },
   "source": [
    "What do you notice that is different from what you saw with in-sample predictions (which are printed after the top code cell in this page).\n",
    "\n",
    "Do you remember why validation predictions differ from in-sample (or training) predictions? This is an important idea from the last lesson.\n",
    "\n",
    "## Step 4: Calculate the Mean Absolute Error in Validation Data\n"
   ]
  },
  {
   "cell_type": "code",
   "execution_count": 9,
   "id": "4125d4a9",
   "metadata": {
    "execution": {
     "iopub.execute_input": "2022-02-16T01:27:25.185893Z",
     "iopub.status.busy": "2022-02-16T01:27:25.185223Z",
     "iopub.status.idle": "2022-02-16T01:27:25.190715Z",
     "shell.execute_reply": "2022-02-16T01:27:25.191179Z",
     "shell.execute_reply.started": "2022-02-16T01:26:26.015952Z"
    },
    "papermill": {
     "duration": 0.031834,
     "end_time": "2022-02-16T01:27:25.191349",
     "exception": false,
     "start_time": "2022-02-16T01:27:25.159515",
     "status": "completed"
    },
    "tags": []
   },
   "outputs": [
    {
     "name": "stdout",
     "output_type": "stream",
     "text": [
      "29652.931506849316\n"
     ]
    },
    {
     "data": {
      "application/javascript": [
       "parent.postMessage({\"jupyterEvent\": \"custom.exercise_interaction\", \"data\": {\"outcomeType\": 1, \"valueTowardsCompletion\": 0.25, \"interactionType\": 1, \"questionType\": 1, \"questionId\": \"4_MAE\", \"learnToolsVersion\": \"0.3.4\", \"failureMessage\": \"\", \"exceptionClass\": \"\", \"trace\": \"\"}}, \"*\")"
      ],
      "text/plain": [
       "<IPython.core.display.Javascript object>"
      ]
     },
     "metadata": {},
     "output_type": "display_data"
    },
    {
     "data": {
      "text/markdown": [
       "<span style=\"color:#33cc33\">Correct</span>"
      ],
      "text/plain": [
       "Correct"
      ]
     },
     "metadata": {},
     "output_type": "display_data"
    }
   ],
   "source": [
    "from sklearn.metrics import mean_absolute_error\n",
    "val_mae = mean_absolute_error(val_y , val_predictions)\n",
    "\n",
    "# uncomment following line to see the validation_mae\n",
    "print(val_mae)\n",
    "\n",
    "# Check your answer\n",
    "step_4.check()"
   ]
  },
  {
   "cell_type": "code",
   "execution_count": 10,
   "id": "301cf36e",
   "metadata": {
    "execution": {
     "iopub.execute_input": "2022-02-16T01:27:25.239253Z",
     "iopub.status.busy": "2022-02-16T01:27:25.238443Z",
     "iopub.status.idle": "2022-02-16T01:27:25.240012Z",
     "shell.execute_reply": "2022-02-16T01:27:25.240531Z"
    },
    "papermill": {
     "duration": 0.027783,
     "end_time": "2022-02-16T01:27:25.240683",
     "exception": false,
     "start_time": "2022-02-16T01:27:25.212900",
     "status": "completed"
    },
    "tags": []
   },
   "outputs": [],
   "source": [
    "# step_4.hint()\n",
    "# step_4.solution()"
   ]
  },
  {
   "cell_type": "markdown",
   "id": "344b1f94",
   "metadata": {
    "papermill": {
     "duration": 0.023257,
     "end_time": "2022-02-16T01:27:25.288267",
     "exception": false,
     "start_time": "2022-02-16T01:27:25.265010",
     "status": "completed"
    },
    "tags": []
   },
   "source": [
    "Is that MAE good?  There isn't a general rule for what values are good that applies across applications. But you'll see how to use (and improve) this number in the next step.\n",
    "\n",
    "# Keep Going\n",
    "\n",
    "You are ready for **[Underfitting and Overfitting](https://www.kaggle.com/dansbecker/underfitting-and-overfitting).**\n"
   ]
  },
  {
   "cell_type": "markdown",
   "id": "292e0485",
   "metadata": {
    "papermill": {
     "duration": 0.022194,
     "end_time": "2022-02-16T01:27:25.332715",
     "exception": false,
     "start_time": "2022-02-16T01:27:25.310521",
     "status": "completed"
    },
    "tags": []
   },
   "source": [
    "---\n",
    "\n",
    "\n",
    "\n",
    "\n",
    "*Have questions or comments? Visit the [course discussion forum](https://www.kaggle.com/learn/intro-to-machine-learning/discussion) to chat with other learners.*"
   ]
  }
 ],
 "metadata": {
  "kernelspec": {
   "display_name": "Python 3",
   "language": "python",
   "name": "python3"
  },
  "language_info": {
   "codemirror_mode": {
    "name": "ipython",
    "version": 3
   },
   "file_extension": ".py",
   "mimetype": "text/x-python",
   "name": "python",
   "nbconvert_exporter": "python",
   "pygments_lexer": "ipython3",
   "version": "3.7.12"
  },
  "papermill": {
   "default_parameters": {},
   "duration": 11.751518,
   "end_time": "2022-02-16T01:27:25.963802",
   "environment_variables": {},
   "exception": null,
   "input_path": "__notebook__.ipynb",
   "output_path": "__notebook__.ipynb",
   "parameters": {},
   "start_time": "2022-02-16T01:27:14.212284",
   "version": "2.3.3"
  }
 },
 "nbformat": 4,
 "nbformat_minor": 5
}
